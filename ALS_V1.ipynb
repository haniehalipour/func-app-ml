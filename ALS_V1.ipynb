{
  "nbformat": 4,
  "nbformat_minor": 0,
  "metadata": {
    "colab": {
      "name": "ALS-V1.ipynb",
      "version": "0.3.2",
      "provenance": [],
      "collapsed_sections": [],
      "include_colab_link": true
    },
    "kernelspec": {
      "name": "python3",
      "display_name": "Python 3"
    },
    "accelerator": "GPU"
  },
  "cells": [
    {
      "cell_type": "markdown",
      "metadata": {
        "id": "view-in-github",
        "colab_type": "text"
      },
      "source": [
        "<a href=\"https://colab.research.google.com/github/haniehalipour/func-app-ml/blob/master/ALS_V1.ipynb\" target=\"_parent\"><img src=\"https://colab.research.google.com/assets/colab-badge.svg\" alt=\"Open In Colab\"/></a>"
      ]
    },
    {
      "metadata": {
        "id": "7hKe5Dx61fjZ",
        "colab_type": "text"
      },
      "cell_type": "markdown",
      "source": [
        ""
      ]
    },
    {
      "metadata": {
        "id": "DVy3q3fn1fJi",
        "colab_type": "code",
        "colab": {}
      },
      "cell_type": "code",
      "source": [
        ""
      ],
      "execution_count": 0,
      "outputs": []
    },
    {
      "metadata": {
        "id": "A1BcSb6SjUCp",
        "colab_type": "code",
        "outputId": "3149ec26-d66f-4181-89ad-e2759a4faa5f",
        "colab": {
          "base_uri": "https://localhost:8080/",
          "height": 122
        }
      },
      "cell_type": "code",
      "source": [
        "from google.colab import drive\n",
        "drive.mount('/content/drive/')\n"
      ],
      "execution_count": 0,
      "outputs": [
        {
          "output_type": "stream",
          "text": [
            "Go to this URL in a browser: https://accounts.google.com/o/oauth2/auth?client_id=947318989803-6bn6qk8qdgf4n4g3pfee6491hc0brc4i.apps.googleusercontent.com&redirect_uri=urn%3Aietf%3Awg%3Aoauth%3A2.0%3Aoob&scope=email%20https%3A%2F%2Fwww.googleapis.com%2Fauth%2Fdocs.test%20https%3A%2F%2Fwww.googleapis.com%2Fauth%2Fdrive%20https%3A%2F%2Fwww.googleapis.com%2Fauth%2Fdrive.photos.readonly%20https%3A%2F%2Fwww.googleapis.com%2Fauth%2Fpeopleapi.readonly&response_type=code\n",
            "\n",
            "Enter your authorization code:\n",
            "··········\n",
            "Mounted at /content/drive/\n"
          ],
          "name": "stdout"
        }
      ]
    },
    {
      "metadata": {
        "id": "SN-q7YrekEiA",
        "colab_type": "code",
        "outputId": "72ed9c29-2a6d-4e8f-be14-a70490c77839",
        "colab": {
          "base_uri": "https://localhost:8080/",
          "height": 34
        }
      },
      "cell_type": "code",
      "source": [
        "!ls \"/content/drive/My Drive/Colab Notebooks\""
      ],
      "execution_count": 0,
      "outputs": [
        {
          "output_type": "stream",
          "text": [
            "ALS-V1.ipynb  data.csv\n"
          ],
          "name": "stdout"
        }
      ]
    },
    {
      "metadata": {
        "id": "Z4218oaplRbJ",
        "colab_type": "code",
        "colab": {}
      },
      "cell_type": "code",
      "source": [
        "!apt-get install openjdk-8-jdk-headless -qq > /dev/null\n",
        "!wget -q http://www-us.apache.org/dist/spark/spark-2.3.3/spark-2.3.3-bin-hadoop2.7.tgz\n",
        "!tar xf spark-2.3.3-bin-hadoop2.7.tgz\n",
        "!pip install -q findspark"
      ],
      "execution_count": 0,
      "outputs": []
    },
    {
      "metadata": {
        "id": "ttyhWH3tmgVr",
        "colab_type": "code",
        "colab": {}
      },
      "cell_type": "code",
      "source": [
        "import os\n",
        "os.environ[\"JAVA_HOME\"] = \"/usr/lib/jvm/java-8-openjdk-amd64\"\n",
        "os.environ[\"SPARK_HOME\"] = \"/content/spark-2.3.3-bin-hadoop2.7\""
      ],
      "execution_count": 0,
      "outputs": []
    },
    {
      "metadata": {
        "id": "OABh9CO_m-cc",
        "colab_type": "code",
        "outputId": "e1d6c75e-99be-4fa2-aede-0e7f62fd355b",
        "colab": {
          "base_uri": "https://localhost:8080/",
          "height": 224
        }
      },
      "cell_type": "code",
      "source": [
        "import findspark\n",
        "findspark.init()\n",
        "from pyspark.sql import SparkSession\n",
        "\n",
        "spark = SparkSession.builder.master(\"local[*]\").getOrCreate()\n",
        "\n",
        "df = spark.createDataFrame([{\"hello\": \"world\"} for x in range(1000)])\n",
        "df.show(3)"
      ],
      "execution_count": 0,
      "outputs": [
        {
          "output_type": "stream",
          "text": [
            "+-----+\n",
            "|hello|\n",
            "+-----+\n",
            "|world|\n",
            "|world|\n",
            "|world|\n",
            "+-----+\n",
            "only showing top 3 rows\n",
            "\n"
          ],
          "name": "stdout"
        },
        {
          "output_type": "stream",
          "text": [
            "/content/spark-2.2.3-bin-hadoop2.7/python/pyspark/sql/session.py:336: UserWarning: inferring schema from dict is deprecated,please use pyspark.sql.Row instead\n",
            "  warnings.warn(\"inferring schema from dict is deprecated,\"\n"
          ],
          "name": "stderr"
        }
      ]
    },
    {
      "metadata": {
        "id": "ENPapKcMS0C1",
        "colab_type": "code",
        "outputId": "e7988951-c9dd-4c7b-e38a-62f5dda45dc1",
        "colab": {
          "base_uri": "https://localhost:8080/",
          "height": 351
        }
      },
      "cell_type": "code",
      "source": [
        "from __future__ import print_function\n",
        "#!pip install -q pyspark\n",
        "import sys\n",
        "if sys.version >= '3':\n",
        "    long = int\n",
        "\n",
        "from pyspark.sql import SparkSession\n",
        "\n",
        "# $example on$\n",
        "from pyspark.ml.evaluation import RegressionEvaluator\n",
        "from pyspark.ml.recommendation import ALS\n",
        "from pyspark.sql import Row\n",
        "# $example off$\n",
        "\n",
        "if __name__ == \"__main__\":\n",
        "    spark = SparkSession\\\n",
        "        .builder\\\n",
        "        .appName(\"ALSExample\")\\\n",
        "        .getOrCreate()\n",
        "\n",
        "# try to load file locally\n",
        "from google.colab import files\n",
        "#files.upload()\n",
        "\n",
        "!ls\n",
        "\n",
        "#print(\"well done\")\n",
        "\n",
        "    # $example on$\n",
        "lines = spark.read.text(\"data - V2.txt\").rdd\n",
        "parts = lines.map(lambda row: row.value.split(\"::\"))\n",
        "ratingsRDD = parts.map(lambda p: Row(profile_id=int(p[0]), category_id=int(p[1]), score=float(p[2]), category_name=str(p[3])))\n",
        "\n",
        "\n",
        "# Profile_id and category_id need to be numerical not string\n",
        "  \n",
        "ratings = spark.createDataFrame(ratingsRDD)\n",
        "    \n",
        "(training, test) = ratings.randomSplit([0.8, 0.2])\n",
        "\n",
        "# Build the recommendation model using ALS on the training data\n",
        "# Note we set cold start strategy to 'drop' to ensure we don't get NaN evaluation metrics\n",
        "als = ALS(maxIter=5, regParam=0.01, userCol=\"profile_id\", itemCol=\"category_id\", ratingCol=\"score\", coldStartStrategy=\"drop\")\n",
        "model = als.fit(training)\n",
        "\n",
        "# Evaluate the model by computing the RMSE on the test data\n",
        "predictions = model.transform(test)\n",
        "evaluator = RegressionEvaluator(metricName=\"rmse\", labelCol=\"score\",predictionCol=\"prediction\")\n",
        "rmse = evaluator.evaluate(predictions)\n",
        "print(\"Root-mean-square error = \" + str(rmse))\n",
        "\n",
        "# Generate top 10 movie recommendations for each user\n",
        "userRecs = model.recommendForAllUsers(10)\n",
        "# Generate top 10 user recommendations for each movie\n",
        "movieRecs = model.recommendForAllItems(10)\n",
        "\n",
        "#Generate top 10 movie recommendations for a specified set of users\n",
        "users = ratings.select(als.getUserCol()).distinct().limit(3)\n",
        "userSubsetRecs = model.recommendForUserSubset(users, 10)\n",
        "\n",
        "# Generate top 10 user recommendations for a specified set of movies\n",
        "movies = ratings.select(als.getItemCol()).distinct().limit(3)\n",
        "movieSubSetRecs = model.recommendForItemSubset(movies, 10)\n",
        "\n",
        "\n",
        "userRecs.show()\n",
        "movieRecs.show()\n",
        "userSubsetRecs.show()\n",
        "movieSubSetRecs.show()\n",
        "\n",
        "\n",
        "spark.stop()"
      ],
      "execution_count": 0,
      "outputs": [
        {
          "output_type": "stream",
          "text": [
            "'data (1).csv'\t'data - V2.txt'\t\t\t spark-2.3.3-bin-hadoop2.7\n",
            "'data (2).csv'\t drive\t\t\t\t spark-2.3.3-bin-hadoop2.7.tgz\n",
            " data.csv\t sample_data\t\t\t spark-warehouse\n",
            " data.txt\t spark-2.2.3-bin-hadoop2.7\n",
            " data-v1.txt\t spark-2.2.3-bin-hadoop2.7.tgz\n",
            "well done\n",
            "Root-mean-square error = 0.6108302068393148\n"
          ],
          "name": "stdout"
        },
        {
          "output_type": "error",
          "ename": "AttributeError",
          "evalue": "ignored",
          "traceback": [
            "\u001b[0;31m---------------------------------------------------------------------------\u001b[0m",
            "\u001b[0;31mAttributeError\u001b[0m                            Traceback (most recent call last)",
            "\u001b[0;32m<ipython-input-63-0d31cba1e9ce>\u001b[0m in \u001b[0;36m<module>\u001b[0;34m()\u001b[0m\n\u001b[1;32m     54\u001b[0m \u001b[0;31m#Generate top 10 movie recommendations for a specified set of users\u001b[0m\u001b[0;34m\u001b[0m\u001b[0;34m\u001b[0m\u001b[0;34m\u001b[0m\u001b[0m\n\u001b[1;32m     55\u001b[0m \u001b[0musers\u001b[0m \u001b[0;34m=\u001b[0m \u001b[0mratings\u001b[0m\u001b[0;34m.\u001b[0m\u001b[0mselect\u001b[0m\u001b[0;34m(\u001b[0m\u001b[0mals\u001b[0m\u001b[0;34m.\u001b[0m\u001b[0mgetUserCol\u001b[0m\u001b[0;34m(\u001b[0m\u001b[0;34m)\u001b[0m\u001b[0;34m)\u001b[0m\u001b[0;34m.\u001b[0m\u001b[0mdistinct\u001b[0m\u001b[0;34m(\u001b[0m\u001b[0;34m)\u001b[0m\u001b[0;34m.\u001b[0m\u001b[0mlimit\u001b[0m\u001b[0;34m(\u001b[0m\u001b[0;36m3\u001b[0m\u001b[0;34m)\u001b[0m\u001b[0;34m\u001b[0m\u001b[0;34m\u001b[0m\u001b[0m\n\u001b[0;32m---> 56\u001b[0;31m \u001b[0muserSubsetRecs\u001b[0m \u001b[0;34m=\u001b[0m \u001b[0mmodel\u001b[0m\u001b[0;34m.\u001b[0m\u001b[0mrecommendForUserSubset\u001b[0m\u001b[0;34m(\u001b[0m\u001b[0musers\u001b[0m\u001b[0;34m,\u001b[0m \u001b[0;36m10\u001b[0m\u001b[0;34m)\u001b[0m\u001b[0;34m\u001b[0m\u001b[0;34m\u001b[0m\u001b[0m\n\u001b[0m\u001b[1;32m     57\u001b[0m \u001b[0;34m\u001b[0m\u001b[0m\n\u001b[1;32m     58\u001b[0m \u001b[0;31m# Generate top 10 user recommendations for a specified set of movies\u001b[0m\u001b[0;34m\u001b[0m\u001b[0;34m\u001b[0m\u001b[0;34m\u001b[0m\u001b[0m\n",
            "\u001b[0;31mAttributeError\u001b[0m: 'ALSModel' object has no attribute 'recommendForUserSubset'"
          ]
        }
      ]
    },
    {
      "metadata": {
        "id": "tYbMpY_A1gHC",
        "colab_type": "code",
        "outputId": "4140da70-2ff0-4768-fb90-26cc902a199f",
        "colab": {
          "base_uri": "https://localhost:8080/",
          "height": 1176
        }
      },
      "cell_type": "code",
      "source": [
        "from __future__ import print_function\n",
        "#!pip install -q pyspark\n",
        "import sys\n",
        "if sys.version >= '3':\n",
        "    long = int\n",
        "\n",
        "from pyspark.sql import SparkSession\n",
        "\n",
        "# $example on$\n",
        "from pyspark.ml.evaluation import RegressionEvaluator\n",
        "from pyspark.ml.recommendation import ALS\n",
        "from pyspark.sql import Row\n",
        "# $example off$\n",
        "\n",
        "if __name__ == \"__main__\":\n",
        "    spark = SparkSession\\\n",
        "        .builder\\\n",
        "        .appName(\"ALSExample\")\\\n",
        "        .getOrCreate()\n",
        "\n",
        "# try to load file locally\n",
        "from google.colab import files\n",
        "#files.upload()\n",
        "\n",
        "!ls\n",
        "\n",
        "print(\"well done\")\n",
        "\n",
        "    # $example on$\n",
        "lines = spark.read.text(\"data - V2.txt\").rdd\n",
        "parts = lines.map(lambda row: row.value.split(\"::\"))\n",
        "ratingsRDD = parts.map(lambda p: Row(profile_id=int(p[0]), category_id=int(p[1]), score=float(p[2]), category_name=str(p[3])))\n",
        "\n",
        "\n",
        "# Profile_id and category_id need to be numerical not string\n",
        "  \n",
        "ratings = spark.createDataFrame(ratingsRDD)\n",
        "    \n",
        "(training, test) = ratings.randomSplit([0.8, 0.2])\n",
        "\n",
        "# Build the recommendation model using ALS on the training data\n",
        "# Note we set cold start strategy to 'drop' to ensure we don't get NaN evaluation metrics\n",
        "als = ALS(maxIter=5, regParam=0.01, userCol=\"profile_id\", itemCol=\"category_id\", ratingCol=\"score\", coldStartStrategy=\"drop\")\n",
        "model = als.fit(training)\n",
        "\n",
        "# Evaluate the model by computing the RMSE on the test data\n",
        "predictions = model.transform(test)\n",
        "evaluator = RegressionEvaluator(metricName=\"rmse\", labelCol=\"score\",predictionCol=\"prediction\")\n",
        "rmse = evaluator.evaluate(predictions)\n",
        "print(\"Root-mean-square error = \" + str(rmse))\n",
        "\n",
        "# Generate top 10 movie recommendations for each user\n",
        "userRecs = model.recommendForAllUsers(10)\n",
        "# Generate top 10 user recommendations for each movie\n",
        "movieRecs = model.recommendForAllItems(10)\n",
        "\n",
        "#Generate top 10 movie recommendations for a specified set of users\n",
        "users = ratings.select(als.getUserCol()).distinct().limit(3)\n",
        "userSubsetRecs = model.recommendForUserSubset(users, 10)\n",
        "\n",
        "# Generate top 10 user recommendations for a specified set of movies\n",
        "movies = ratings.select(als.getItemCol()).distinct().limit(3)\n",
        "movieSubSetRecs = model.recommendForItemSubset(movies, 10)\n",
        "\n",
        "\n",
        "userRecs.show(20, False)\n",
        "movieRecs.show(20, False)\n",
        "userSubsetRecs.show(20, False)\n",
        "movieSubSetRecs.show(20, False)\n",
        "\n",
        "\n",
        "spark.stop()"
      ],
      "execution_count": 6,
      "outputs": [
        {
          "output_type": "stream",
          "text": [
            "'data - V2.txt'   sample_data\n",
            "well done\n",
            "Root-mean-square error = 0.26008362160264814\n",
            "+----------+--------------------------------------------------------------------------------------------------------------------------------------------------------------------------------+\n",
            "|profile_id|recommendations                                                                                                                                                                 |\n",
            "+----------+--------------------------------------------------------------------------------------------------------------------------------------------------------------------------------+\n",
            "|31        |[[3, 1.2420185], [7, 1.144066], [8, 0.624295], [16, 0.61446124], [2, 0.47210503], [6, 0.46517226], [5, 0.4380749], [17, 0.29845533], [11, 0.29482424], [13, 0.2706228]]         |\n",
            "|65        |[[3, 3.271118], [7, 3.259867], [16, 1.7018001], [8, 1.3779416], [6, 1.18959], [5, 1.1831832], [4, 0.8303893], [11, 0.8209059], [17, 0.81094694], [13, 0.7215724]]               |\n",
            "|53        |[[3, 0.8401313], [7, 0.79559904], [16, 0.42309377], [8, 0.3987525], [6, 0.31149125], [5, 0.29890606], [2, 0.23970097], [17, 0.20415257], [11, 0.20342353], [4, 0.18897857]]     |\n",
            "|78        |[[7, 0.6412683], [3, 0.599214], [8, 0.30391335], [16, 0.30133912], [11, 0.26825047], [5, 0.23340672], [17, 0.20575705], [6, 0.1927578], [12, 0.16632529], [14, 0.14896268]]     |\n",
            "|108       |[[3, 0.69486207], [7, 0.65803003], [16, 0.34993553], [8, 0.32980323], [6, 0.25763053], [5, 0.24722145], [2, 0.19825368], [17, 0.16885206], [11, 0.16824909], [4, 0.15630181]]   |\n",
            "|101       |[[3, 0.76787627], [7, 0.6683091], [8, 0.39790946], [16, 0.30340475], [6, 0.28276724], [5, 0.26719463], [2, 0.22430469], [17, 0.19275177], [11, 0.18518911], [4, 0.1810099]]     |\n",
            "|115       |[[3, 0.59852165], [7, 0.5667963], [16, 0.30141807], [8, 0.28407702], [6, 0.22191086], [5, 0.21294498], [2, 0.17076643], [17, 0.14544123], [11, 0.14492187], [4, 0.13463107]]    |\n",
            "|81        |[[3, 0.29926082], [7, 0.28339815], [16, 0.15070903], [8, 0.14203851], [6, 0.11095543], [5, 0.10647249], [2, 0.085383214], [17, 0.07272062], [11, 0.072460935], [4, 0.067315534]]|\n",
            "|76        |[[3, 0.29926082], [7, 0.28339815], [16, 0.15070903], [8, 0.14203851], [6, 0.11095543], [5, 0.10647249], [2, 0.085383214], [17, 0.07272062], [11, 0.072460935], [4, 0.067315534]]|\n",
            "|26        |[[7, 1.8866429], [3, 1.0972059], [16, 0.88272834], [5, 0.44828394], [6, 0.3879109], [14, 0.35033393], [8, 0.34832132], [11, 0.313845], [17, 0.2951859], [2, 0.22590457]]        |\n",
            "|27        |[[3, 0.59852165], [7, 0.5667963], [16, 0.30141807], [8, 0.28407702], [6, 0.22191086], [5, 0.21294498], [2, 0.17076643], [17, 0.14544123], [11, 0.14492187], [4, 0.13463107]]    |\n",
            "|44        |[[3, 0.29926082], [7, 0.28339815], [16, 0.15070903], [8, 0.14203851], [6, 0.11095543], [5, 0.10647249], [2, 0.085383214], [17, 0.07272062], [11, 0.072460935], [4, 0.067315534]]|\n",
            "|103       |[[3, 0.59852165], [7, 0.5667963], [16, 0.30141807], [8, 0.28407702], [6, 0.22191086], [5, 0.21294498], [2, 0.17076643], [17, 0.14544123], [11, 0.14492187], [4, 0.13463107]]    |\n",
            "|12        |[[3, 0.59852165], [7, 0.5667963], [16, 0.30141807], [8, 0.28407702], [6, 0.22191086], [5, 0.21294498], [2, 0.17076643], [17, 0.14544123], [11, 0.14492187], [4, 0.13463107]]    |\n",
            "|91        |[[3, 0.7720178], [7, 0.66389364], [2, 0.4666253], [8, 0.43922687], [16, 0.36572373], [6, 0.2960198], [5, 0.26668653], [1, 0.22543499], [17, 0.18057856], [11, 0.17456609]]      |\n",
            "|22        |[[7, 0.9464935], [3, 0.4787984], [16, 0.43321007], [5, 0.20402479], [14, 0.18664734], [6, 0.16656743], [11, 0.14391948], [17, 0.13294359], [8, 0.12720121], [9, 0.09491886]]    |\n",
            "|93        |[[7, 0.3437603], [16, 0.29839072], [3, 0.22483033], [5, 0.09333752], [6, 0.08765898], [11, 0.05608171], [2, 0.052545935], [13, 0.042896744], [17, 0.04094739], [9, 0.034853216]]|\n",
            "|111       |[[3, 0.8379654], [7, 0.7312686], [2, 0.46739423], [8, 0.46519452], [16, 0.40062505], [6, 0.31975424], [5, 0.2907347], [1, 0.2272752], [17, 0.1971183], [11, 0.19143999]]        |\n",
            "|47        |[[9, 0.57838273], [7, 0.33817318], [3, 0.30130616], [12, 0.21917109], [15, 0.17981753], [16, 0.14457208], [14, 0.14268562], [5, 0.1363018], [6, 0.0990453], [11, 0.090005144]]  |\n",
            "|1         |[[3, 0.59852165], [7, 0.5667963], [16, 0.30141807], [8, 0.28407702], [6, 0.22191086], [5, 0.21294498], [2, 0.17076643], [17, 0.14544123], [11, 0.14492187], [4, 0.13463107]]    |\n",
            "+----------+--------------------------------------------------------------------------------------------------------------------------------------------------------------------------------+\n",
            "only showing top 20 rows\n",
            "\n",
            "+-----------+--------------------------------------------------------------------------------------------------------------------------------------------------------------------------------------+\n",
            "|category_id|recommendations                                                                                                                                                                       |\n",
            "+-----------+--------------------------------------------------------------------------------------------------------------------------------------------------------------------------------------+\n",
            "|12         |[[48, 0.71762484], [65, 0.48511177], [82, 0.2912303], [77, 0.28489283], [47, 0.21917109], [107, 0.17648411], [78, 0.16632529], [46, 0.14478081], [102, 0.12033809], [109, 0.12009163]]|\n",
            "|1          |[[82, 0.6328937], [49, 0.587444], [109, 0.3545305], [77, 0.32926148], [62, 0.3119646], [90, 0.3050961], [98, 0.2745908], [46, 0.24276876], [33, 0.23862551], [31, 0.23854989]]        |\n",
            "|13         |[[65, 0.7215724], [77, 0.6455842], [82, 0.59536535], [109, 0.517878], [62, 0.42846093], [90, 0.37389672], [33, 0.3485706], [19, 0.32591295], [113, 0.31486756], [29, 0.30030152]]     |\n",
            "|6          |[[65, 1.18959], [77, 1.0794348], [82, 0.9319525], [109, 0.8773124], [62, 0.72818804], [90, 0.6395996], [33, 0.5904968], [19, 0.58893687], [113, 0.5334021], [29, 0.5087265]]          |\n",
            "|16         |[[65, 1.7018001], [77, 1.5029259], [109, 1.1916399], [82, 1.1172943], [41, 1.0697194], [62, 0.983006], [26, 0.88272834], [90, 0.85273755], [19, 0.8173534], [33, 0.8020626]]          |\n",
            "|3          |[[65, 3.271118], [77, 2.938041], [82, 2.5532997], [109, 2.3662224], [62, 1.9596024], [90, 1.7134541], [33, 1.5926445], [19, 1.5227883], [113, 1.4386528], [29, 1.3720995]]            |\n",
            "|5          |[[65, 1.1831832], [77, 1.0533823], [82, 0.8980186], [109, 0.8418663], [62, 0.69586134], [90, 0.60610205], [33, 0.5666388], [19, 0.5141609], [113, 0.511851], [29, 0.48817235]]        |\n",
            "|15         |[[65, 0.40549845], [77, 0.37816024], [82, 0.32688197], [109, 0.31720552], [66, 0.27682877], [62, 0.26529375], [90, 0.23654345], [19, 0.2218359], [33, 0.213503], [113, 0.19285953]]   |\n",
            "|17         |[[65, 0.81094694], [77, 0.7210442], [82, 0.64991766], [109, 0.5749939], [62, 0.47501042], [90, 0.41327608], [33, 0.38701385], [113, 0.34959382], [35, 0.3334213], [29, 0.3334213]]    |\n",
            "|9          |[[65, 0.600788], [47, 0.57838273], [77, 0.5008478], [82, 0.39932796], [109, 0.38362813], [62, 0.31364802], [48, 0.3001132], [104, 0.29142874], [90, 0.26710984], [33, 0.25821042]]    |\n",
            "|4          |[[65, 0.8303893], [82, 0.7385181], [77, 0.701995], [109, 0.5322565], [62, 0.43398845], [90, 0.36749816], [33, 0.35824835], [113, 0.32360956], [19, 0.30896848], [29, 0.30863914]]     |\n",
            "|8          |[[82, 1.4211493], [65, 1.3779416], [77, 1.3208995], [109, 1.123083], [62, 0.9422647], [90, 0.84534097], [33, 0.7559187], [113, 0.6828295], [19, 0.6754032], [29, 0.65124124]]         |\n",
            "|7          |[[65, 3.259867], [77, 2.8502314], [109, 2.240798], [82, 2.2034938], [26, 1.8866429], [62, 1.8444915], [90, 1.593016], [33, 1.5082244], [19, 1.4103062], [113, 1.362395]]              |\n",
            "|10         |[[65, 0.30184045], [48, 0.2764298], [82, 0.23026775], [77, 0.2257671], [109, 0.1488999], [62, 0.116547294], [33, 0.10022074], [113, 0.09053048], [90, 0.089998186], [107, 0.08662795]]|\n",
            "|11         |[[65, 0.8209059], [77, 0.7238947], [82, 0.6128117], [109, 0.5729407], [62, 0.47241646], [90, 0.40943497], [33, 0.38563183], [113, 0.34834543], [35, 0.33223063], [29, 0.33223063]]    |\n",
            "|14         |[[26, 0.35033393], [56, 0.29016113], [77, 0.2840103], [9, 0.28091735], [65, 0.27531734], [109, 0.25814283], [62, 0.21982472], [82, 0.20428152], [90, 0.20284897], [22, 0.18664734]]   |\n",
            "|2          |[[82, 0.6993037], [109, 0.6751157], [62, 0.6003046], [90, 0.59743476], [98, 0.5923042], [77, 0.5892554], [31, 0.47210503], [54, 0.46806023], [111, 0.46739423], [75, 0.46739423]]     |\n",
            "+-----------+--------------------------------------------------------------------------------------------------------------------------------------------------------------------------------------+\n",
            "\n",
            "+----------+-------------------------------------------------------------------------------------------------------------------------------------------------------------------------+\n",
            "|profile_id|recommendations                                                                                                                                                          |\n",
            "+----------+-------------------------------------------------------------------------------------------------------------------------------------------------------------------------+\n",
            "|65        |[[3, 3.271118], [7, 3.259867], [16, 1.7018001], [8, 1.3779416], [6, 1.18959], [5, 1.1831832], [4, 0.8303893], [11, 0.8209059], [17, 0.81094694], [13, 0.7215724]]        |\n",
            "|26        |[[7, 1.8866429], [3, 1.0972059], [16, 0.88272834], [5, 0.44828394], [6, 0.3879109], [14, 0.35033393], [8, 0.34832132], [11, 0.313845], [17, 0.2951859], [2, 0.22590457]] |\n",
            "|29        |[[3, 1.3720995], [7, 1.2993696], [16, 0.69099534], [8, 0.65124124], [6, 0.5087265], [5, 0.48817235], [2, 0.39147878], [17, 0.3334213], [11, 0.33223063], [4, 0.30863914]]|\n",
            "+----------+-------------------------------------------------------------------------------------------------------------------------------------------------------------------------+\n",
            "\n",
            "+-----------+----------------------------------------------------------------------------------------------------------------------------------------------------------------------------------+\n",
            "|category_id|recommendations                                                                                                                                                                   |\n",
            "+-----------+----------------------------------------------------------------------------------------------------------------------------------------------------------------------------------+\n",
            "|6          |[[65, 1.18959], [77, 1.0794348], [82, 0.9319525], [109, 0.8773124], [62, 0.72818804], [90, 0.6395996], [33, 0.5904968], [19, 0.58893687], [113, 0.5334021], [29, 0.5087265]]      |\n",
            "|9          |[[65, 0.600788], [47, 0.57838273], [77, 0.5008478], [82, 0.39932796], [109, 0.38362813], [62, 0.31364802], [48, 0.3001132], [104, 0.29142874], [90, 0.26710984], [33, 0.25821042]]|\n",
            "|7          |[[65, 3.259867], [77, 2.8502314], [109, 2.240798], [82, 2.2034938], [26, 1.8866429], [62, 1.8444915], [90, 1.593016], [33, 1.5082244], [19, 1.4103062], [113, 1.362395]]          |\n",
            "+-----------+----------------------------------------------------------------------------------------------------------------------------------------------------------------------------------+\n",
            "\n"
          ],
          "name": "stdout"
        }
      ]
    }
  ]
}